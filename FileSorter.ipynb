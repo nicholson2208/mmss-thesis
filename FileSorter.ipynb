{
 "cells": [
  {
   "cell_type": "markdown",
   "metadata": {},
   "source": [
    "# This notebook exists to take the thousands of text files that are produced with a given experiment and sort them into subfolders so I can do slice them more easily"
   ]
  },
  {
   "cell_type": "code",
   "execution_count": 2,
   "metadata": {},
   "outputs": [],
   "source": [
    "import os\n",
    "import numpy as np\n",
    "import pandas as pd"
   ]
  },
  {
   "cell_type": "code",
   "execution_count": null,
   "metadata": {},
   "outputs": [],
   "source": [
    "def file_mover(exp_name, number_of_runs):\n",
    "    \n",
    "    df = pd.read_csv(\"BehaviorSpace_output/dynamic_network \" + exp_name + \"-table.csv\")\n",
    "    \n",
    "    for ii in range(1, 432+1):\n",
    "        # get the first row from this run number\n",
    "        row = df[df[\"[run number]\"] == ii].iloc[0]\n",
    "\n",
    "        # make directories for all of the things if they don't exist\n",
    "        initial_path = \"networks/\" + row[\"input-file-name\"]\n",
    "        path = \"\"\n",
    "\n",
    "        path += initial_path + \"/\" + str(row[\"number-of-adversarial\"]) + \"/\" + row[\"adversarial-placement\"] + \"/\"\n",
    "        path += row[\"connection-strategy\"] + \"/\"\n",
    "\n",
    "        # if there are params for these, include them\n",
    "        if row[\"connection-strategy\"] != \"random\":\n",
    "            # memory duration and color-mismatch-tolerance\n",
    "            path += \"some_numbers\" + \"/\"\n",
    "\n",
    "        path += row[\"adversary-color-change-strategy\"] + \"/\"\n",
    "\n",
    "        # include params\n",
    "        if not row[\"adversary-color-change-strategy\"] == \"disengaged\":\n",
    "            path += \"a_number\" + \"/\"\n",
    "\n",
    "        try:\n",
    "            os.makedirs(path)\n",
    "        except FileExistsError:\n",
    "            # directory already exists\n",
    "            pass\n",
    "\n",
    "        # now actually move the files\n",
    "\n",
    "\n",
    "        for file in os.listdir(initial_path):\n",
    "            if file.endswith(\".txt\") and file.startswith(exp_name + \"_\" + str(ii)):\n",
    "                os.rename(initial_path + \"/\" + file, path+file)\n"
   ]
  },
  {
   "cell_type": "code",
   "execution_count": null,
   "metadata": {},
   "outputs": [],
   "source": []
  },
  {
   "cell_type": "code",
   "execution_count": null,
   "metadata": {},
   "outputs": [],
   "source": []
  }
 ],
 "metadata": {
  "kernelspec": {
   "display_name": "Python 3",
   "language": "python",
   "name": "python3"
  },
  "language_info": {
   "codemirror_mode": {
    "name": "ipython",
    "version": 3
   },
   "file_extension": ".py",
   "mimetype": "text/x-python",
   "name": "python",
   "nbconvert_exporter": "python",
   "pygments_lexer": "ipython3",
   "version": "3.7.1"
  }
 },
 "nbformat": 4,
 "nbformat_minor": 2
}
