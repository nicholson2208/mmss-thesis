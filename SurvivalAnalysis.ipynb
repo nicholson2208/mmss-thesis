{
 "cells": [
  {
   "cell_type": "markdown",
   "metadata": {},
   "source": [
    "# Right now this is a sample to figure out how to do this, but in reality, the \"death\" is convergence\n",
    "\n",
    "### Could slice convergence to be whether they get it for 2 consecutive time periods, instead of 5"
   ]
  },
  {
   "cell_type": "code",
   "execution_count": 54,
   "metadata": {},
   "outputs": [],
   "source": [
    "import os\n",
    "import numpy as np\n",
    "import pandas as pd\n",
    "import matplotlib.pyplot as plt\n",
    "import lifelines\n",
    "\n",
    "from lifelines.datasets import load_dd\n",
    "\n",
    "%matplotlib inline"
   ]
  },
  {
   "cell_type": "markdown",
   "metadata": {},
   "source": [
    "## Network Struture"
   ]
  },
  {
   "cell_type": "markdown",
   "metadata": {},
   "source": []
  },
  {
   "cell_type": "code",
   "execution_count": 56,
   "metadata": {},
   "outputs": [
    {
     "name": "stdout",
     "output_type": "stream",
     "text": [
      "new_rep_dis count     19201\n",
      "unique      194\n",
      "top         500\n",
      "freq      16376\n",
      "Name: 24, dtype: object\n",
      "rep_blendHighHigh count     19201\n",
      "unique      312\n",
      "top         500\n",
      "freq      16150\n",
      "Name: 24, dtype: object\n",
      "rep_blendLowHigh count     19201\n",
      "unique      290\n",
      "top         500\n",
      "freq      16170\n",
      "Name: 24, dtype: object\n",
      "(7200,)\n",
      "(7200,)\n",
      "(7200,)\n",
      "(7200,)\n",
      "(7200,)\n",
      "(7200,)\n",
      "(7200,)\n",
      "(7200,)\n"
     ]
    },
    {
     "data": {
      "image/png": "[encoded data removed]",
      "text/plain": [
       "<Figure size 432x288 with 1 Axes>"
      ]
     },
     "metadata": {
      "needs_background": "light"
     },
     "output_type": "display_data"
    }
   ],
   "source": [
    "# Still missing some of the data, but this suggest that network struture doesn't matter if you can change your network\n",
    "\n",
    "b_durations = np.array([])\n",
    "e_durations = np.array([])\n",
    "l_durations = np.array([])\n",
    "w_durations = np.array([])\n",
    "\n",
    "for exp_name in [\"new_rep_dis\", \"rep_blendHighHigh\", \"rep_blendLowHigh\"]:  # obvi missing some of the data.\n",
    "\n",
    "    if not os.path.isfile(\"./BehaviorSpace_output/cleaned_\" + exp_name + \"-spreadsheet.csv\"):\n",
    "        with open(\"./BehaviorSpace_output/dynamic_network \" + exp_name + \"-spreadsheet.csv\", 'rb') as infile:\n",
    "                data_in = infile.readlines()\n",
    "\n",
    "        with open(\"./BehaviorSpace_output/cleaned_\" + exp_name + \"-spreadsheet.csv\", 'wb') as outfile:\n",
    "            outfile.writelines(data_in[6:])\n",
    "        \n",
    "    df = pd.read_csv(\"./BehaviorSpace_output/cleaned_\" + exp_name + \"-spreadsheet.csv\")\n",
    "    \n",
    "    print(exp_name, df.iloc[24].describe())\n",
    "    \n",
    "\n",
    "    for ii in range(1, df.shape[1], 2): # the cols with the data in them\n",
    "        network = df.iloc[11, ii].strip('\"')\n",
    "\n",
    "        if network == \"Barabasi1\":\n",
    "            b_durations = np.append(b_durations, int(df.iloc[24, ii]))\n",
    "        elif network == \"Erdos_Renyi1\":\n",
    "            e_durations = np.append(e_durations, int(df.iloc[24, ii]))\n",
    "        elif network == \"Lattice1\":\n",
    "            l_durations = np.append(l_durations, int(df.iloc[24, ii]))\n",
    "        elif network == \"Watts_Strogratz1\":\n",
    "            w_durations = np.append(w_durations, int(df.iloc[24, ii]))\n",
    "            \n",
    "            \n",
    "from lifelines import KaplanMeierFitter\n",
    "kmf = KaplanMeierFitter()\n",
    "\n",
    "ax = plt.subplot(111)\n",
    "\n",
    "\n",
    "for network in [\"Barabasi1\", \"Erdos_Renyi1\", \"Lattice1\", \"Watts_Strogatz1\"]:\n",
    "    if network == \"Barabasi1\":\n",
    "        durations = b_durations \n",
    "    elif network == \"Erdos_Renyi1\":\n",
    "        durations = e_durations\n",
    "    elif network == \"Lattice1\":\n",
    "        durations = l_durations\n",
    "    elif network == \"Watts_Strogratz1\":\n",
    "        durations = w_durations\n",
    "        \n",
    "    deaths = np.where(durations >= 500, 0, 1)\n",
    "\n",
    "    print(durations.shape)\n",
    "    print(deaths.shape)\n",
    "    \n",
    "    kmf = KaplanMeierFitter()\n",
    "\n",
    "    kmf.fit(durations, event_observed=deaths, label = network)\n",
    "    kmf.plot(ax=ax)"
   ]
  },
  {
   "cell_type": "markdown",
   "metadata": {},
   "source": [
    "### Still should include the logrank tests down here"
   ]
  },
  {
   "cell_type": "markdown",
   "metadata": {},
   "source": [
    "# Color change strats"
   ]
  },
  {
   "cell_type": "code",
   "execution_count": null,
   "metadata": {},
   "outputs": [],
   "source": []
  },
  {
   "cell_type": "code",
   "execution_count": 66,
   "metadata": {},
   "outputs": [
    {
     "name": "stdout",
     "output_type": "stream",
     "text": [
      "new_rep_dis count     19201\n",
      "unique      194\n",
      "top         500\n",
      "freq      16376\n",
      "Name: 24, dtype: object\n",
      "rep_blendHighHigh count     19201\n",
      "unique      312\n",
      "top         500\n",
      "freq      16150\n",
      "Name: 24, dtype: object\n",
      "rep_blendLowHigh count     19201\n",
      "unique      290\n",
      "top         500\n",
      "freq      16170\n",
      "Name: 24, dtype: object\n",
      "(9600,)\n",
      "(9600,)\n",
      "(9600,)\n",
      "(9600,)\n",
      "(9600,)\n",
      "(9600,)\n"
     ]
    },
    {
     "data": {
      "image/png": "[encoded data removed]",
      "text/plain": [
       "<Figure size 432x288 with 1 Axes>"
      ]
     },
     "metadata": {
      "needs_background": "light"
     },
     "output_type": "display_data"
    }
   ],
   "source": [
    "# Still missing some of the data, but this suggest that network struture doesn't matter if you can change your network\n",
    "\n",
    "naive_durations = np.array([])\n",
    "rep_durations = np.array([])\n",
    "social_durations = np.array([])\n",
    "\n",
    "for exp_name in [\"new_rep_dis\", \"rep_blendHighHigh\", \"rep_blendLowHigh\"]:  # obvi missing some of the data.\n",
    "\n",
    "    if not os.path.isfile(\"./BehaviorSpace_output/cleaned_\" + exp_name + \"-spreadsheet.csv\"):\n",
    "        with open(\"./BehaviorSpace_output/dynamic_network \" + exp_name + \"-spreadsheet.csv\", 'rb') as infile:\n",
    "                data_in = infile.readlines()\n",
    "\n",
    "        with open(\"./BehaviorSpace_output/cleaned_\" + exp_name + \"-spreadsheet.csv\", 'wb') as outfile:\n",
    "            outfile.writelines(data_in[6:])\n",
    "        \n",
    "    df = pd.read_csv(\"./BehaviorSpace_output/cleaned_\" + exp_name + \"-spreadsheet.csv\")\n",
    "    \n",
    "    print(exp_name, df.iloc[24].describe())\n",
    "    \n",
    "\n",
    "    for ii in range(1, df.shape[1], 2): # the cols with the data in them\n",
    "        color_change_strat = df.iloc[9, ii].strip('\"')\n",
    "\n",
    "        if color_change_strat == \"naive-majority-vote\":\n",
    "            naive_durations = np.append(naive_durations, int(df.iloc[24, ii]))\n",
    "        elif color_change_strat == \"reputation-majority-vote\":\n",
    "            rep_durations = np.append(rep_durations, int(df.iloc[24, ii]))\n",
    "        elif color_change_strat == \"social-majority-vote\":\n",
    "            social_durations = np.append(social_durations, int(df.iloc[24, ii]))\n",
    "       \n",
    "            \n",
    "            \n",
    "from lifelines import KaplanMeierFitter\n",
    "kmf = KaplanMeierFitter()\n",
    "\n",
    "ax = plt.subplot(111)\n",
    "\n",
    "\n",
    "for color_change_strat in [\"naive-majority-vote\", \"repuation-majority-vote\",\"social-majority-vote\"]:\n",
    "    if color_change_strat == \"naive-majority-vote\":\n",
    "        durations = naive_durations \n",
    "    if color_change_strat == \"reputation-majority-vote\":\n",
    "        durations = rep_durations\n",
    "    if color_change_strat == \"social-majority-vote\":\n",
    "        durations = social_durations\n",
    "    \n",
    "    deaths = np.where(durations >= 500, 0, 1)\n",
    "\n",
    "    print(durations.shape)\n",
    "    print(deaths.shape)\n",
    "    \n",
    "    kmf = KaplanMeierFitter()\n",
    "\n",
    "    kmf.fit(durations, event_observed=deaths, label = color_change_strat)\n",
    "    kmf.plot(ax=ax)"
   ]
  },
  {
   "cell_type": "code",
   "execution_count": 60,
   "metadata": {},
   "outputs": [],
   "source": [
    "# if I want to do some descriptives on whether how close things are.\n",
    "\n",
    "convergence_numbers = df.iloc[26:, 1:]"
   ]
  },
  {
   "cell_type": "code",
   "execution_count": 64,
   "metadata": {},
   "outputs": [
    {
     "data": {
      "text/plain": [
       "'\"reputation-majority-vote\"'"
      ]
     },
     "execution_count": 64,
     "metadata": {},
     "output_type": "execute_result"
    }
   ],
   "source": [
    "df.iloc[9, 9101]"
   ]
  },
  {
   "cell_type": "code",
   "execution_count": 16,
   "metadata": {},
   "outputs": [
    {
     "data": {
      "text/plain": [
       "(527, 19201)"
      ]
     },
     "execution_count": 16,
     "metadata": {},
     "output_type": "execute_result"
    }
   ],
   "source": [
    "df.shape"
   ]
  },
  {
   "cell_type": "code",
   "execution_count": 15,
   "metadata": {
    "scrolled": true
   },
   "outputs": [
    {
     "data": {
      "text/plain": [
       "count     19201\n",
       "unique      194\n",
       "top         500\n",
       "freq      16376\n",
       "Name: 24, dtype: object"
      ]
     },
     "execution_count": 15,
     "metadata": {},
     "output_type": "execute_result"
    }
   ],
   "source": [
    "df.iloc[24].describe()"
   ]
  },
  {
   "cell_type": "code",
   "execution_count": 50,
   "metadata": {},
   "outputs": [
    {
     "name": "stdout",
     "output_type": "stream",
     "text": [
      "(7200,)\n",
      "(7200,)\n",
      "(7200,)\n",
      "(7200,)\n",
      "(7200,)\n",
      "(7200,)\n",
      "(7200,)\n",
      "(7200,)\n"
     ]
    },
    {
     "data": {
      "image/png": "[encoded data removed]",
      "text/plain": [
       "<Figure size 432x288 with 1 Axes>"
      ]
     },
     "metadata": {
      "needs_background": "light"
     },
     "output_type": "display_data"
    }
   ],
   "source": []
  },
  {
   "cell_type": "code",
   "execution_count": 33,
   "metadata": {
    "scrolled": true
   },
   "outputs": [
    {
     "ename": "NameError",
     "evalue": "name 'durations_df' is not defined",
     "output_type": "error",
     "traceback": [
      "\u001b[1;31m---------------------------------------------------------------------------\u001b[0m",
      "\u001b[1;31mNameError\u001b[0m                                 Traceback (most recent call last)",
      "\u001b[1;32m<ipython-input-33-ce21cbdaa40d>\u001b[0m in \u001b[0;36m<module>\u001b[1;34m\u001b[0m\n\u001b[0;32m     11\u001b[0m     \u001b[1;32mfor\u001b[0m \u001b[0mi\u001b[0m \u001b[1;32min\u001b[0m \u001b[0mrange\u001b[0m\u001b[1;33m(\u001b[0m\u001b[1;36m1\u001b[0m\u001b[1;33m,\u001b[0m \u001b[1;36m6\u001b[0m\u001b[1;33m)\u001b[0m\u001b[1;33m:\u001b[0m\u001b[1;33m\u001b[0m\u001b[1;33m\u001b[0m\u001b[0m\n\u001b[0;32m     12\u001b[0m         durations = np.append(durations, \n\u001b[1;32m---> 13\u001b[1;33m                               durations_df.loc[durations_df['input-file-name'] == network+str(i)].iloc[: , -1].values)\n\u001b[0m\u001b[0;32m     14\u001b[0m \u001b[1;33m\u001b[0m\u001b[0m\n\u001b[0;32m     15\u001b[0m \u001b[1;33m\u001b[0m\u001b[0m\n",
      "\u001b[1;31mNameError\u001b[0m: name 'durations_df' is not defined"
     ]
    },
    {
     "data": {
      "image/png": "[encoded data removed]",
      "text/plain": [
       "<Figure size 432x288 with 1 Axes>"
      ]
     },
     "metadata": {
      "needs_background": "light"
     },
     "output_type": "display_data"
    }
   ],
   "source": [
    "# now every col is the duration\n",
    "# durations_df = df.groupby([\"[run number]\", \"input-file-name\"]).count()\n",
    "# durations_df = durations_df.reset_index()\n",
    "\n",
    "ax = plt.subplot(111)\n",
    "\n",
    "\n",
    "durations = np.array([])\n",
    "\n",
    "for network in [\"Barabasi\", \"Erdos_Renyi\", \"Watts_Strogatz\"]:\n",
    "    for i in range(1, 6):\n",
    "        durations = np.append(durations, \n",
    "                              durations_df.loc[durations_df['input-file-name'] == network+str(i)].iloc[: , -1].values)\n",
    "\n",
    "\n",
    "\n",
    "    deaths = np.where(durations == 501, 0, 1)\n",
    "\n",
    "    kmf = KaplanMeierFitter()\n",
    "\n",
    "    kmf.fit(durations, event_observed=deaths, label = network)\n",
    "    kmf.plot(ax=ax)\n"
   ]
  },
  {
   "cell_type": "code",
   "execution_count": 9,
   "metadata": {},
   "outputs": [],
   "source": [
    "from lifelines.statistics import logrank_test\n",
    "\n",
    "durations = np.array([])\n",
    "\n",
    "for i in range(1, 6):\n",
    "    b_durations = np.append(durations, \n",
    "                          durations_df.loc[durations_df['input-file-name'] == \"Barabasi\"+str(i)].iloc[: , -1].values)\n",
    "\n",
    "    b_deaths = np.where(b_durations == 501, 0, 1)\n",
    "\n",
    "    \n",
    "durations = np.array([])\n",
    "\n",
    "for i in range(1, 6):\n",
    "    e_durations = np.append(durations, \n",
    "                          durations_df.loc[durations_df['input-file-name'] == \"Erdos_Renyi\"+str(i)].iloc[: , -1].values)\n",
    "\n",
    "    e_deaths = np.where(e_durations == 501, 0, 1)\n",
    "\n",
    "durations = np.array([])\n",
    "    \n",
    "for i in range(1, 6):\n",
    "    w_durations = np.append(durations, \n",
    "                          durations_df.loc[durations_df['input-file-name'] == \"Watts_Strogatz\"+str(i)].iloc[: , -1].values)\n",
    "\n",
    "    w_deaths = np.where(w_durations == 501, 0, 1)\n"
   ]
  },
  {
   "cell_type": "code",
   "execution_count": 10,
   "metadata": {},
   "outputs": [
    {
     "data": {
      "text/plain": [
       "array([1, 0, 1, 1, 1, 1, 1, 1, 1, 0, 0, 0, 0, 0, 0, 1, 0, 0, 0, 0, 0, 0,\n",
       "       0, 0, 0, 0, 0])"
      ]
     },
     "execution_count": 10,
     "metadata": {},
     "output_type": "execute_result"
    }
   ],
   "source": [
    "w_deaths"
   ]
  },
  {
   "cell_type": "code",
   "execution_count": 11,
   "metadata": {},
   "outputs": [
    {
     "name": "stdout",
     "output_type": "stream",
     "text": [
      "Between Barabasi and Watts_Strogatz for random and disengaged\n",
      "<lifelines.StatisticalResult>\n",
      "               t_0 = -1\n",
      " null_distribution = chi squared\n",
      "degrees_of_freedom = 1\n",
      "             alpha = 0.99\n",
      "\n",
      "---\n",
      "test_statistic    p  -log2(p)\n",
      "          0.58 0.45      1.16\n",
      "Between Barabasi and Erdos_Renyi for random and disengaged\n",
      "<lifelines.StatisticalResult>\n",
      "               t_0 = -1\n",
      " null_distribution = chi squared\n",
      "degrees_of_freedom = 1\n",
      "             alpha = 0.99\n",
      "\n",
      "---\n",
      "test_statistic    p  -log2(p)\n",
      "          0.11 0.74      0.43\n",
      "Between Erdos_Renyi and Watts_Strogatz for random and disengaged\n",
      "<lifelines.StatisticalResult>\n",
      "               t_0 = -1\n",
      " null_distribution = chi squared\n",
      "degrees_of_freedom = 1\n",
      "             alpha = 0.99\n",
      "\n",
      "---\n",
      "test_statistic    p  -log2(p)\n",
      "          0.25 0.62      0.70\n"
     ]
    }
   ],
   "source": [
    "print(\"Between Barabasi and Watts_Strogatz for random and disengaged\")\n",
    "\n",
    "results = logrank_test(b_durations, w_durations, b_deaths, w_deaths, alpha=.99)\n",
    "\n",
    "results.print_summary()\n",
    "\n",
    "print(\"Between Barabasi and Erdos_Renyi for random and disengaged\")\n",
    "\n",
    "results = logrank_test(b_durations, e_durations, b_deaths, e_deaths, alpha=.99)\n",
    "\n",
    "results.print_summary()\n",
    "\n",
    "print(\"Between Erdos_Renyi and Watts_Strogatz for random and disengaged\")\n",
    "\n",
    "results = logrank_test(e_durations, w_durations, e_deaths, w_deaths, alpha=.99)\n",
    "\n",
    "results.print_summary()"
   ]
  },
  {
   "cell_type": "code",
   "execution_count": null,
   "metadata": {},
   "outputs": [],
   "source": []
  },
  {
   "cell_type": "code",
   "execution_count": null,
   "metadata": {},
   "outputs": [],
   "source": []
  },
  {
   "cell_type": "code",
   "execution_count": null,
   "metadata": {},
   "outputs": [],
   "source": []
  }
 ],
 "metadata": {
  "kernelspec": {
   "display_name": "Python 3",
   "language": "python",
   "name": "python3"
  },
  "language_info": {
   "codemirror_mode": {
    "name": "ipython",
    "version": 3
   },
   "file_extension": ".py",
   "mimetype": "text/x-python",
   "name": "python",
   "nbconvert_exporter": "python",
   "pygments_lexer": "ipython3",
   "version": "3.6.7"
  }
 },
 "nbformat": 4,
 "nbformat_minor": 2
}
