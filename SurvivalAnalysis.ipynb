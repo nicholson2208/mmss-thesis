{
 "cells": [
  {
   "cell_type": "markdown",
   "metadata": {},
   "source": [
    "# Right now this is a sample to figure out how to do this, but in reality, the \"death\" is convergence"
   ]
  },
  {
   "cell_type": "code",
   "execution_count": 1,
   "metadata": {},
   "outputs": [],
   "source": [
    "import numpy as np\n",
    "import pandas as pd\n",
    "import matplotlib.pyplot as plt\n",
    "import lifelines\n",
    "\n",
    "from lifelines.datasets import load_dd\n",
    "\n",
    "%matplotlib inline"
   ]
  },
  {
   "cell_type": "code",
   "execution_count": 5,
   "metadata": {},
   "outputs": [],
   "source": [
    "from lifelines import KaplanMeierFitter\n",
    "kmf = KaplanMeierFitter()"
   ]
  },
  {
   "cell_type": "code",
   "execution_count": 6,
   "metadata": {},
   "outputs": [],
   "source": [
    "df = pd.read_csv(\"BehaviorSpace_output/dynamic_network random_dis-table.csv\")"
   ]
  },
  {
   "cell_type": "code",
   "execution_count": 7,
   "metadata": {
    "scrolled": true
   },
   "outputs": [
    {
     "data": {
      "text/html": [
       "<div>\n",
       "<style scoped>\n",
       "    .dataframe tbody tr th:only-of-type {\n",
       "        vertical-align: middle;\n",
       "    }\n",
       "\n",
       "    .dataframe tbody tr th {\n",
       "        vertical-align: top;\n",
       "    }\n",
       "\n",
       "    .dataframe thead th {\n",
       "        text-align: right;\n",
       "    }\n",
       "</style>\n",
       "<table border=\"1\" class=\"dataframe\">\n",
       "  <thead>\n",
       "    <tr style=\"text-align: right;\">\n",
       "      <th></th>\n",
       "      <th>[run number]</th>\n",
       "      <th>number-of-adversarial</th>\n",
       "      <th>connection-strategy</th>\n",
       "      <th>cooperator-color-change-strategy</th>\n",
       "      <th>input-file-name</th>\n",
       "      <th>adversarial-placement</th>\n",
       "      <th>adversary-color-change-strategy</th>\n",
       "      <th>output-file-name</th>\n",
       "      <th>[step]</th>\n",
       "      <th>(count nodes with [is-adversarial = 0 and color = item 0 (modes [color] of nodes with [is-adversarial = 0])]) / number-of-nodes</th>\n",
       "      <th>(count nodes with [is-adversarial = 0]) / (number-of-nodes)</th>\n",
       "    </tr>\n",
       "  </thead>\n",
       "  <tbody>\n",
       "    <tr>\n",
       "      <th>0</th>\n",
       "      <td>1</td>\n",
       "      <td>10</td>\n",
       "      <td>random</td>\n",
       "      <td>naive-majority-vote</td>\n",
       "      <td>Barabasi1</td>\n",
       "      <td>low</td>\n",
       "      <td>disengaged</td>\n",
       "      <td>random_dis</td>\n",
       "      <td>0</td>\n",
       "      <td>0.12</td>\n",
       "      <td>0.9</td>\n",
       "    </tr>\n",
       "    <tr>\n",
       "      <th>1</th>\n",
       "      <td>6</td>\n",
       "      <td>10</td>\n",
       "      <td>random</td>\n",
       "      <td>naive-majority-vote</td>\n",
       "      <td>Barabasi2</td>\n",
       "      <td>high</td>\n",
       "      <td>disengaged</td>\n",
       "      <td>random_dis</td>\n",
       "      <td>0</td>\n",
       "      <td>0.15</td>\n",
       "      <td>0.9</td>\n",
       "    </tr>\n",
       "    <tr>\n",
       "      <th>2</th>\n",
       "      <td>5</td>\n",
       "      <td>10</td>\n",
       "      <td>random</td>\n",
       "      <td>naive-majority-vote</td>\n",
       "      <td>Barabasi2</td>\n",
       "      <td>medium</td>\n",
       "      <td>disengaged</td>\n",
       "      <td>random_dis</td>\n",
       "      <td>0</td>\n",
       "      <td>0.15</td>\n",
       "      <td>0.9</td>\n",
       "    </tr>\n",
       "    <tr>\n",
       "      <th>3</th>\n",
       "      <td>2</td>\n",
       "      <td>10</td>\n",
       "      <td>random</td>\n",
       "      <td>naive-majority-vote</td>\n",
       "      <td>Barabasi1</td>\n",
       "      <td>medium</td>\n",
       "      <td>disengaged</td>\n",
       "      <td>random_dis</td>\n",
       "      <td>0</td>\n",
       "      <td>0.12</td>\n",
       "      <td>0.9</td>\n",
       "    </tr>\n",
       "    <tr>\n",
       "      <th>4</th>\n",
       "      <td>4</td>\n",
       "      <td>10</td>\n",
       "      <td>random</td>\n",
       "      <td>naive-majority-vote</td>\n",
       "      <td>Barabasi2</td>\n",
       "      <td>low</td>\n",
       "      <td>disengaged</td>\n",
       "      <td>random_dis</td>\n",
       "      <td>0</td>\n",
       "      <td>0.15</td>\n",
       "      <td>0.9</td>\n",
       "    </tr>\n",
       "  </tbody>\n",
       "</table>\n",
       "</div>"
      ],
      "text/plain": [
       "   [run number]  number-of-adversarial connection-strategy  \\\n",
       "0             1                     10              random   \n",
       "1             6                     10              random   \n",
       "2             5                     10              random   \n",
       "3             2                     10              random   \n",
       "4             4                     10              random   \n",
       "\n",
       "  cooperator-color-change-strategy input-file-name adversarial-placement  \\\n",
       "0              naive-majority-vote       Barabasi1                   low   \n",
       "1              naive-majority-vote       Barabasi2                  high   \n",
       "2              naive-majority-vote       Barabasi2                medium   \n",
       "3              naive-majority-vote       Barabasi1                medium   \n",
       "4              naive-majority-vote       Barabasi2                   low   \n",
       "\n",
       "  adversary-color-change-strategy output-file-name  [step]  \\\n",
       "0                      disengaged       random_dis       0   \n",
       "1                      disengaged       random_dis       0   \n",
       "2                      disengaged       random_dis       0   \n",
       "3                      disengaged       random_dis       0   \n",
       "4                      disengaged       random_dis       0   \n",
       "\n",
       "   (count nodes with [is-adversarial = 0 and color = item 0 (modes [color] of nodes with [is-adversarial = 0])]) / number-of-nodes  \\\n",
       "0                                               0.12                                                                                 \n",
       "1                                               0.15                                                                                 \n",
       "2                                               0.15                                                                                 \n",
       "3                                               0.12                                                                                 \n",
       "4                                               0.15                                                                                 \n",
       "\n",
       "   (count nodes with [is-adversarial = 0]) / (number-of-nodes)  \n",
       "0                                                0.9            \n",
       "1                                                0.9            \n",
       "2                                                0.9            \n",
       "3                                                0.9            \n",
       "4                                                0.9            "
      ]
     },
     "execution_count": 7,
     "metadata": {},
     "output_type": "execute_result"
    }
   ],
   "source": [
    "df.head()"
   ]
  },
  {
   "cell_type": "code",
   "execution_count": 8,
   "metadata": {
    "scrolled": true
   },
   "outputs": [
    {
     "data": {
      "image/png": "[encoded data removed]",
      "text/plain": [
       "<Figure size 432x288 with 1 Axes>"
      ]
     },
     "metadata": {
      "needs_background": "light"
     },
     "output_type": "display_data"
    }
   ],
   "source": [
    "# now every col is the duration\n",
    "durations_df = df.groupby([\"[run number]\", \"input-file-name\"]).count()\n",
    "durations_df = durations_df.reset_index()\n",
    "\n",
    "ax = plt.subplot(111)\n",
    "\n",
    "\n",
    "durations = np.array([])\n",
    "\n",
    "for network in [\"Barabasi\", \"Erdos_Renyi\", \"Watts_Strogatz\"]:\n",
    "    for i in range(1, 6):\n",
    "        durations = np.append(durations, \n",
    "                              durations_df.loc[durations_df['input-file-name'] == network+str(i)].iloc[: , -1].values)\n",
    "\n",
    "\n",
    "\n",
    "    deaths = np.where(durations == 501, 0, 1)\n",
    "\n",
    "    kmf = KaplanMeierFitter()\n",
    "\n",
    "    kmf.fit(durations, event_observed=deaths, label = network)\n",
    "    kmf.plot(ax=ax)\n"
   ]
  },
  {
   "cell_type": "code",
   "execution_count": 9,
   "metadata": {},
   "outputs": [],
   "source": [
    "from lifelines.statistics import logrank_test\n",
    "\n",
    "durations = np.array([])\n",
    "\n",
    "for i in range(1, 6):\n",
    "    b_durations = np.append(durations, \n",
    "                          durations_df.loc[durations_df['input-file-name'] == \"Barabasi\"+str(i)].iloc[: , -1].values)\n",
    "\n",
    "    b_deaths = np.where(b_durations == 501, 0, 1)\n",
    "\n",
    "    \n",
    "durations = np.array([])\n",
    "\n",
    "for i in range(1, 6):\n",
    "    e_durations = np.append(durations, \n",
    "                          durations_df.loc[durations_df['input-file-name'] == \"Erdos_Renyi\"+str(i)].iloc[: , -1].values)\n",
    "\n",
    "    e_deaths = np.where(e_durations == 501, 0, 1)\n",
    "\n",
    "durations = np.array([])\n",
    "    \n",
    "for i in range(1, 6):\n",
    "    w_durations = np.append(durations, \n",
    "                          durations_df.loc[durations_df['input-file-name'] == \"Watts_Strogatz\"+str(i)].iloc[: , -1].values)\n",
    "\n",
    "    w_deaths = np.where(w_durations == 501, 0, 1)\n"
   ]
  },
  {
   "cell_type": "code",
   "execution_count": 10,
   "metadata": {},
   "outputs": [
    {
     "data": {
      "text/plain": [
       "array([1, 0, 1, 1, 1, 1, 1, 1, 1, 0, 0, 0, 0, 0, 0, 1, 0, 0, 0, 0, 0, 0,\n",
       "       0, 0, 0, 0, 0])"
      ]
     },
     "execution_count": 10,
     "metadata": {},
     "output_type": "execute_result"
    }
   ],
   "source": [
    "w_deaths"
   ]
  },
  {
   "cell_type": "code",
   "execution_count": 11,
   "metadata": {},
   "outputs": [
    {
     "name": "stdout",
     "output_type": "stream",
     "text": [
      "Between Barabasi and Watts_Strogatz for random and disengaged\n",
      "<lifelines.StatisticalResult>\n",
      "               t_0 = -1\n",
      " null_distribution = chi squared\n",
      "degrees_of_freedom = 1\n",
      "             alpha = 0.99\n",
      "\n",
      "---\n",
      "test_statistic    p  -log2(p)\n",
      "          0.58 0.45      1.16\n",
      "Between Barabasi and Erdos_Renyi for random and disengaged\n",
      "<lifelines.StatisticalResult>\n",
      "               t_0 = -1\n",
      " null_distribution = chi squared\n",
      "degrees_of_freedom = 1\n",
      "             alpha = 0.99\n",
      "\n",
      "---\n",
      "test_statistic    p  -log2(p)\n",
      "          0.11 0.74      0.43\n",
      "Between Erdos_Renyi and Watts_Strogatz for random and disengaged\n",
      "<lifelines.StatisticalResult>\n",
      "               t_0 = -1\n",
      " null_distribution = chi squared\n",
      "degrees_of_freedom = 1\n",
      "             alpha = 0.99\n",
      "\n",
      "---\n",
      "test_statistic    p  -log2(p)\n",
      "          0.25 0.62      0.70\n"
     ]
    }
   ],
   "source": [
    "print(\"Between Barabasi and Watts_Strogatz for random and disengaged\")\n",
    "\n",
    "results = logrank_test(b_durations, w_durations, b_deaths, w_deaths, alpha=.99)\n",
    "\n",
    "results.print_summary()\n",
    "\n",
    "print(\"Between Barabasi and Erdos_Renyi for random and disengaged\")\n",
    "\n",
    "results = logrank_test(b_durations, e_durations, b_deaths, e_deaths, alpha=.99)\n",
    "\n",
    "results.print_summary()\n",
    "\n",
    "print(\"Between Erdos_Renyi and Watts_Strogatz for random and disengaged\")\n",
    "\n",
    "results = logrank_test(e_durations, w_durations, e_deaths, w_deaths, alpha=.99)\n",
    "\n",
    "results.print_summary()"
   ]
  },
  {
   "cell_type": "code",
   "execution_count": null,
   "metadata": {},
   "outputs": [],
   "source": []
  },
  {
   "cell_type": "code",
   "execution_count": null,
   "metadata": {},
   "outputs": [],
   "source": []
  },
  {
   "cell_type": "code",
   "execution_count": null,
   "metadata": {},
   "outputs": [],
   "source": []
  }
 ],
 "metadata": {
  "kernelspec": {
   "display_name": "Python 3",
   "language": "python",
   "name": "python3"
  },
  "language_info": {
   "codemirror_mode": {
    "name": "ipython",
    "version": 3
   },
   "file_extension": ".py",
   "mimetype": "text/x-python",
   "name": "python",
   "nbconvert_exporter": "python",
   "pygments_lexer": "ipython3",
   "version": "3.7.1"
  }
 },
 "nbformat": 4,
 "nbformat_minor": 2
}
